{
 "cells": [
  {
   "cell_type": "code",
   "execution_count": 1,
   "metadata": {},
   "outputs": [],
   "source": [
    "import cv2\n",
    "import matplotlib.pyplot as plt\n",
    "import skt_face"
   ]
  },
  {
   "cell_type": "code",
   "execution_count": 2,
   "metadata": {},
   "outputs": [
    {
     "name": "stdout",
     "output_type": "stream",
     "text": [
      "AICLOUD RDV SERVER\u0000\u0000\u0000\u0000\u0000\n",
      "\u0000\u0000\u0000 DA3FA66F437C41479061992D8CF8A3C6\n",
      "{'faceLoc': {u'pointX': 82, u'pointY': 78, u'width': 123, u'height': 163}, 'name': u'\\uae40\\ucca0\\uc218', 'conf': u'0.995581'}\n"
     ]
    }
   ],
   "source": [
    "imgpath = './26_1.jpg'\n",
    "img = cv2.imread(imgpath)\n",
    "phone_num = 5122\n",
    "school_name = 'snu'\n",
    "\n",
    "info = skt_face.call(phone_num, school_name, imgpath)\n",
    "\n",
    "print info"
   ]
  },
  {
   "cell_type": "code",
   "execution_count": null,
   "metadata": {},
   "outputs": [],
   "source": [
    "J = cv2.cvtColor(img, cv2.COLOR_BGR2RGB)\n",
    "plt.imshow(J)\n",
    "plt.show()"
   ]
  }
 ],
 "metadata": {
  "kernelspec": {
   "display_name": "Python 2",
   "language": "python",
   "name": "python2"
  },
  "language_info": {
   "codemirror_mode": {
    "name": "ipython",
    "version": 2
   },
   "file_extension": ".py",
   "mimetype": "text/x-python",
   "name": "python",
   "nbconvert_exporter": "python",
   "pygments_lexer": "ipython2",
   "version": "2.7.12"
  }
 },
 "nbformat": 4,
 "nbformat_minor": 2
}
